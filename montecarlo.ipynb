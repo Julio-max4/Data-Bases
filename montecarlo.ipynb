{
  "nbformat": 4,
  "nbformat_minor": 0,
  "metadata": {
    "colab": {
      "name": "Untitled0.ipynb",
      "provenance": [],
      "authorship_tag": "ABX9TyPKCTyHST2dWgFBy8L0DWUY",
      "include_colab_link": true
    },
    "kernelspec": {
      "name": "python3",
      "display_name": "Python 3"
    },
    "language_info": {
      "name": "python"
    }
  },
  "cells": [
    {
      "cell_type": "markdown",
      "metadata": {
        "id": "view-in-github",
        "colab_type": "text"
      },
      "source": [
        "<a href=\"https://colab.research.google.com/github/Julio-max4/Data-Bases/blob/main/montecarlo.ipynb\" target=\"_parent\"><img src=\"https://colab.research.google.com/assets/colab-badge.svg\" alt=\"Open In Colab\"/></a>"
      ]
    },
    {
      "cell_type": "code",
      "metadata": {
        "id": "kwciwMrXP6rY"
      },
      "source": [
        "import numpy as np "
      ],
      "execution_count": 2,
      "outputs": []
    },
    {
      "cell_type": "code",
      "metadata": {
        "colab": {
          "base_uri": "https://localhost:8080/"
        },
        "id": "il30o1FKT4iN",
        "outputId": "3b31a092-d923-4e32-d10a-0b1a5741b080"
      },
      "source": [
        "arr=np.random.rand(3)\n",
        "arr"
      ],
      "execution_count": 7,
      "outputs": [
        {
          "output_type": "execute_result",
          "data": {
            "text/plain": [
              "array([0.2429659 , 0.59683782, 0.7692378 ])"
            ]
          },
          "metadata": {},
          "execution_count": 7
        }
      ]
    },
    {
      "cell_type": "code",
      "metadata": {
        "colab": {
          "base_uri": "https://localhost:8080/"
        },
        "id": "YwKOPx5fT0pf",
        "outputId": "1ea796a7-1bb4-438c-d633-4bd76dffb741"
      },
      "source": [
        "np.cumsum(arr)"
      ],
      "execution_count": 8,
      "outputs": [
        {
          "output_type": "execute_result",
          "data": {
            "text/plain": [
              "array([0.2429659 , 0.83980372, 1.60904152])"
            ]
          },
          "metadata": {},
          "execution_count": 8
        }
      ]
    },
    {
      "cell_type": "code",
      "metadata": {
        "colab": {
          "base_uri": "https://localhost:8080/"
        },
        "id": "M92PnoaeXnay",
        "outputId": "61742252-e5cc-409c-c91e-1b54b636aea8"
      },
      "source": [
        "np.random.randint(0,10,size=4) #Muestra uniforme"
      ],
      "execution_count": 9,
      "outputs": [
        {
          "output_type": "execute_result",
          "data": {
            "text/plain": [
              "array([3, 2, 0, 8])"
            ]
          },
          "metadata": {},
          "execution_count": 9
        }
      ]
    },
    {
      "cell_type": "code",
      "metadata": {
        "id": "Bu4nlBi5YHp_"
      },
      "source": [
        "np.random.choice(arr,replace=)"
      ],
      "execution_count": null,
      "outputs": []
    },
    {
      "cell_type": "code",
      "metadata": {
        "id": "wFTK6KyOdy8w"
      },
      "source": [
        "#Paquetes estadisticos\n",
        "import scipy.stats as st"
      ],
      "execution_count": 5,
      "outputs": []
    },
    {
      "cell_type": "code",
      "metadata": {
        "id": "0Xn9jd8jeFMf"
      },
      "source": [
        ""
      ],
      "execution_count": null,
      "outputs": []
    },
    {
      "cell_type": "markdown",
      "metadata": {
        "id": "7-hxoN67dzbf"
      },
      "source": [
        "#Salida pseudoaleatoria («random variates» rvs)\n",
        "#Función densidad de probabilidad («probability density function» pdf)\n",
        "#Función de distribución («cumulative distribution function» cdf)"
      ]
    },
    {
      "cell_type": "code",
      "metadata": {
        "colab": {
          "base_uri": "https://localhost:8080/"
        },
        "id": "-idbBY08eDSs",
        "outputId": "cf2af071-c10e-46e4-9446-aa14cf6aad88"
      },
      "source": [
        "st.bernoulli.rvs(.5,loc=0,size=10) #Muestra Bernoulli "
      ],
      "execution_count": 25,
      "outputs": [
        {
          "output_type": "execute_result",
          "data": {
            "text/plain": [
              "array([1, 0, 1, 0, 0, 0, 0, 1, 0, 1])"
            ]
          },
          "metadata": {},
          "execution_count": 25
        }
      ]
    },
    {
      "cell_type": "code",
      "metadata": {
        "id": "RHiod0edgPpZ"
      },
      "source": [
        "#Dibujar\n",
        "import matplotlib.pyplot as plt\n"
      ],
      "execution_count": 26,
      "outputs": []
    },
    {
      "cell_type": "code",
      "metadata": {
        "id": "ZosOtj--gUHK"
      },
      "source": [
        "x=np.linspace(0,10)\n"
      ],
      "execution_count": 27,
      "outputs": []
    },
    {
      "cell_type": "code",
      "metadata": {
        "colab": {
          "base_uri": "https://localhost:8080/",
          "height": 265
        },
        "id": "K2OhUn_RgpB5",
        "outputId": "bfaa1faa-484a-4587-d7b9-fcf445d0d38d"
      },
      "source": [
        "plt.plot(x,st.expon.pdf(x,scale=10),'-', color='r')\n",
        "plt.grid()\n",
        "#Función de densidad "
      ],
      "execution_count": 37,
      "outputs": [
        {
          "output_type": "display_data",
          "data": {
            "image/png": "[encoded data removed]",
            "text/plain": [
              "<Figure size 432x288 with 1 Axes>"
            ]
          },
          "metadata": {
            "needs_background": "light"
          }
        }
      ]
    },
    {
      "cell_type": "code",
      "metadata": {
        "colab": {
          "base_uri": "https://localhost:8080/",
          "height": 265
        },
        "id": "PqYWFoCjhj-6",
        "outputId": "ab1ef599-b49f-409f-c8e4-e9f236367c0d"
      },
      "source": [
        "plt.plot(x,st.norm.pdf(x,loc=5,scale=1))\n",
        "plt.grid()\n",
        "plt.show()\n"
      ],
      "execution_count": 46,
      "outputs": [
        {
          "output_type": "display_data",
          "data": {
            "image/png": "[encoded data removed]",
            "text/plain": [
              "<Figure size 432x288 with 1 Axes>"
            ]
          },
          "metadata": {
            "needs_background": "light"
          }
        }
      ]
    },
    {
      "cell_type": "code",
      "metadata": {
        "id": "QqCtGAIby-8F"
      },
      "source": [
        "from math import factorial\n",
        "def numero_combinaciones(m, n):\n",
        "    return factorial(m) // (factorial(n) * factorial(m - n))"
      ],
      "execution_count": 49,
      "outputs": []
    },
    {
      "cell_type": "code",
      "metadata": {
        "colab": {
          "base_uri": "https://localhost:8080/"
        },
        "id": "vWqNyJMpzdbf",
        "outputId": "670b7ccd-c11c-4f6c-9fed-b8f149b946c9"
      },
      "source": [
        "T=numero_combinaciones(6,5)\n",
        "F=numero_combinaciones(2,1)\n",
        "F/T"
      ],
      "execution_count": 52,
      "outputs": [
        {
          "output_type": "execute_result",
          "data": {
            "text/plain": [
              "0.3333333333333333"
            ]
          },
          "metadata": {},
          "execution_count": 52
        }
      ]
    },
    {
      "cell_type": "code",
      "metadata": {
        "id": "gslcudCN08rF"
      },
      "source": [
        "#Permutacio0nes\n",
        "def Permutaciones(m,n):\n",
        " return factorial(m)//factorial(m-n)"
      ],
      "execution_count": 56,
      "outputs": []
    },
    {
      "cell_type": "code",
      "metadata": {
        "colab": {
          "base_uri": "https://localhost:8080/"
        },
        "id": "B6uUTlcw1RGb",
        "outputId": "86f04c33-768d-4451-edf5-21295eb1a4f7"
      },
      "source": [
        "Permutaciones(5,5)"
      ],
      "execution_count": 58,
      "outputs": [
        {
          "output_type": "execute_result",
          "data": {
            "text/plain": [
              "120"
            ]
          },
          "metadata": {},
          "execution_count": 58
        }
      ]
    },
    {
      "cell_type": "code",
      "metadata": {
        "colab": {
          "base_uri": "https://localhost:8080/"
        },
        "id": "VpCfmWQv2XYv",
        "outputId": "3058cace-0d02-4664-aac7-60d1a87aaca8"
      },
      "source": [
        "#Con las letras de la palabra libro. ¿Cuántas ordenaciones distintas se pueden hacer que empiecen por vocal?\n",
        "2*Permutaciones(4,4)"
      ],
      "execution_count": 59,
      "outputs": [
        {
          "output_type": "execute_result",
          "data": {
            "text/plain": [
              "48"
            ]
          },
          "metadata": {},
          "execution_count": 59
        }
      ]
    },
    {
      "cell_type": "code",
      "metadata": {
        "id": "BiIfJBol3gnm"
      },
      "source": [
        "\n",
        "#¿De cuántas formas pueden colocarse los 11 jugadores de un equipo de fútbol\n",
        "# teniendo en cuenta que el portero no puede ocupar otra posición distinta que la portería?\n",
        " "
      ],
      "execution_count": 61,
      "outputs": []
    },
    {
      "cell_type": "code",
      "metadata": {
        "colab": {
          "base_uri": "https://localhost:8080/"
        },
        "id": "PujNioTT3sG1",
        "outputId": "9405af38-94e7-4d1a-c7c0-1dcc4c7092f7"
      },
      "source": [
        "Permutaciones(10,10)"
      ],
      "execution_count": 62,
      "outputs": [
        {
          "output_type": "execute_result",
          "data": {
            "text/plain": [
              "3628800"
            ]
          },
          "metadata": {},
          "execution_count": 62
        }
      ]
    },
    {
      "cell_type": "code",
      "metadata": {
        "id": "8-BdEGgL79pQ"
      },
      "source": [
        "#Debemos seguir el siguiente proceso general:\n",
        "\n",
        "\n"
      ],
      "execution_count": null,
      "outputs": []
    },
    {
      "cell_type": "code",
      "metadata": {
        "id": "46mGZr9Z_GLK"
      },
      "source": [
        "#Generamos dos números aleatorios entre 0 y 1\n",
        "U=st.uniform()\n",
        "n=1000000\n",
        "x=U.rvs(n)\n",
        "y=U.rvs(n)\n",
        "#Calculamos X X + Y Y\n",
        "Valores=x*x+y*y\n",
        "#Si el valor es < 1 estaremos dentro del círculo\n",
        "Vdentro=Valores[Valores<1]\n",
        "#Calcular el valor de PI\n",
        "Pi=len(Vdentro)/len(Valores)\n",
        "print(Pi*4)\n"
      ],
      "execution_count": 100,
      "outputs": []
    },
    {
      "cell_type": "code",
      "metadata": {
        "id": "_PVclm3TAeUX"
      },
      "source": [
        ""
      ],
      "execution_count": null,
      "outputs": []
    },
    {
      "cell_type": "code",
      "metadata": {
        "id": "YbO0ni8ZDHQx"
      },
      "source": [
        "def calcularpi(n): #UNA FUNCCIÓN QUE CALCULA APROXIMA PI POR METODO MONTECARLO\n",
        "  U=st.uniform()\n",
        "  x=U.rvs(n)\n",
        "  y=U.rvs(n)\n",
        "  #Calculamos X X + Y Y\n",
        "  Valores=x*x+y*y\n",
        "  #Si el valor es < 1 estaremos dentro del círculo\n",
        "  Vdentro=Valores[Valores<1]\n",
        "  #Calcular el valor de PI\n",
        "  Pi=len(Vdentro)/len(Valores)\n",
        "  return Pi*4\n"
      ],
      "execution_count": 13,
      "outputs": []
    },
    {
      "cell_type": "code",
      "metadata": {
        "colab": {
          "base_uri": "https://localhost:8080/"
        },
        "id": "aBws5PoJDpyw",
        "outputId": "65dbfaa2-ee51-4398-ba56-16311ac9dc22"
      },
      "source": [
        "calcularpi(100000)"
      ],
      "execution_count": 14,
      "outputs": [
        {
          "output_type": "execute_result",
          "data": {
            "text/plain": [
              "3.13776"
            ]
          },
          "metadata": {},
          "execution_count": 14
        }
      ]
    },
    {
      "cell_type": "code",
      "metadata": {
        "colab": {
          "base_uri": "https://localhost:8080/",
          "height": 296
        },
        "id": "M_XpWxOcEe9W",
        "outputId": "b2b2e187-7e50-4cc5-b632-0fa0f1633af9"
      },
      "source": [
        "import matplotlib.pyplot as plt\n",
        "import numpy as np\n",
        "x=np.arange(1,1000,10)\n",
        "plt.plot(x,list(map(calcularpi,x)),'o',color='y')\n",
        "plt.grid()\n",
        "plt.xlabel(\"N creciendo\")\n",
        "plt.ylabel(\"Y tiende a pi\")\n",
        "#Grafica d econforme n tiende a infinito la funcion tiende a pi"
      ],
      "execution_count": 49,
      "outputs": [
        {
          "output_type": "execute_result",
          "data": {
            "text/plain": [
              "Text(0, 0.5, 'Y tiende a pi')"
            ]
          },
          "metadata": {},
          "execution_count": 49
        },
        {
          "output_type": "display_data",
          "data": {
            "image/png": "[encoded data removed]",
            "text/plain": [
              "<Figure size 432x288 with 1 Axes>"
            ]
          },
          "metadata": {
            "needs_background": "light"
          }
        }
      ]
    },
    {
      "cell_type": "code",
      "metadata": {
        "colab": {
          "base_uri": "https://localhost:8080/"
        },
        "id": "KUoTyDgBI3ne",
        "outputId": "241a9fee-b2e8-48e7-d9e0-0b8565529f35"
      },
      "source": [
        "x=np.arange(1,10,1)\n",
        "list(map(calcularpi,x))"
      ],
      "execution_count": 37,
      "outputs": [
        {
          "output_type": "execute_result",
          "data": {
            "text/plain": [
              "[4.0,\n",
              " 4.0,\n",
              " 4.0,\n",
              " 3.0,\n",
              " 3.2,\n",
              " 2.6666666666666665,\n",
              " 2.857142857142857,\n",
              " 3.5,\n",
              " 3.111111111111111]"
            ]
          },
          "metadata": {},
          "execution_count": 37
        }
      ]
    }
  ]
}